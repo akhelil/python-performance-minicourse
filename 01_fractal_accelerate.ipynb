{
 "cells": [
  {
   "cell_type": "markdown",
   "metadata": {},
   "source": [
    "# Problem 1: The Mandelbrot Fractal\n",
    "\n",
    "This is a fun problem, for several reasons:\n",
    "\n",
    "* It produces pretty pictures\n",
    "* There are lots of variations to play with\n",
    "* The algorithm can exit early\n",
    "\n",
    "Let's import some libraries. Note, to automatically see plots, sometimes you may have to do:\n",
    "```python\n",
    "%matplotlib inline\n",
    "```\n",
    "\n",
    "(or `notebook`, `widget`)"
   ]
  },
  {
   "cell_type": "code",
   "execution_count": null,
   "metadata": {},
   "outputs": [],
   "source": [
    "import numpy as np\n",
    "import matplotlib.pyplot as plt\n",
    "\n",
    "# Extra performance libraries\n",
    "import numexpr\n",
    "import numba"
   ]
  },
  {
   "cell_type": "markdown",
   "metadata": {},
   "source": [
    "You can generate a Mandelbrot fractal by applying the transform:\n",
    "\n",
    "$$\n",
    "z_{n+1}=z_{n}^{2}+c\n",
    "$$\n",
    "\n",
    "repeatedly to a regular matrix of complex numbers $c$, and recording the iteration number where the value $|z|$ surpassed some bound, usually 2. You start at $z_0 = c$.\n",
    "\n",
    "\n",
    "\n",
    "Let's set up some inital parameters and a helper matrix:"
   ]
  },
  {
   "cell_type": "code",
   "execution_count": null,
   "metadata": {},
   "outputs": [],
   "source": [
    "maxiterations = 50\n",
    "\n",
    "# 300 x 400 matrix of complex numbers from [-1.5j, 1.5j] x [-2, 2]\n",
    "c = np.sum(np.ogrid[-1.5j:1.5j:300j, -2:2:400j])"
   ]
  },
  {
   "cell_type": "markdown",
   "metadata": {},
   "source": [
    "Let's make sure we have the correct `c`:"
   ]
  },
  {
   "cell_type": "code",
   "execution_count": null,
   "metadata": {},
   "outputs": [],
   "source": [
    "fig, axs = plt.subplots(1,2, figsize=(6,3))\n",
    "axs[0].pcolormesh(c.real, c.imag, c.real)\n",
    "axs[1].pcolormesh(c.real, c.imag, c.imag);"
   ]
  },
  {
   "cell_type": "markdown",
   "metadata": {},
   "source": [
    "Okay, let's make the fractal as simply as possible in numpy:"
   ]
  },
  {
   "cell_type": "code",
   "execution_count": null,
   "metadata": {},
   "outputs": [],
   "source": [
    "fractal = np.zeros_like(c, dtype=np.int32)\n",
    "z = c.copy()\n",
    "\n",
    "for i in range(1, maxiterations+1):\n",
    "    z = z**2 + c                 # Compute z\n",
    "    diverge = abs(z) > 2         # Divergence criteria\n",
    "    \n",
    "    z[diverge] = 2               # Keep number size small\n",
    "    fractal[~diverge] = i        # Fill in non-diverged iteration number"
   ]
  },
  {
   "cell_type": "code",
   "execution_count": null,
   "metadata": {},
   "outputs": [],
   "source": [
    "fig, ax = plt.subplots(figsize=(4,3))\n",
    "ax.pcolormesh(c.real, c.imag, fractal)"
   ]
  },
  {
   "cell_type": "markdown",
   "metadata": {},
   "source": [
    "and in pure python (for use later):"
   ]
  },
  {
   "cell_type": "code",
   "execution_count": null,
   "metadata": {},
   "outputs": [],
   "source": [
    "fractal = np.zeros_like(c, dtype=np.int32)\n",
    "\n",
    "for yi in range(c.shape[0]):\n",
    "    for xi in range(c.shape[1]):\n",
    "        z = cxy = c[yi, xi]\n",
    "        for i in range(1, maxiterations+1):\n",
    "            z = z**2 + cxy\n",
    "            if abs(z) > 2:\n",
    "                break\n",
    "            else:\n",
    "                fractal[yi, xi] = i"
   ]
  },
  {
   "cell_type": "code",
   "execution_count": null,
   "metadata": {},
   "outputs": [],
   "source": [
    "fig, ax = plt.subplots(figsize=(4,3))\n",
    "ax.pcolormesh(c.real, c.imag, fractal)"
   ]
  },
  {
   "cell_type": "code",
   "execution_count": null,
   "metadata": {},
   "outputs": [],
   "source": [
    "def fractal_numpy(c, maxiterations):\n",
    "    f = np.zeros_like(c, dtype=np.int32)\n",
    "    z = c.copy()\n",
    "\n",
    "    for i in range(1, maxiterations+1):\n",
    "        z = z**2 + c                 # Compute z\n",
    "        diverge = abs(z**2)  > 2**2  # Divergence criteria\n",
    "\n",
    "        z[diverge] = 2               # Keep number size small\n",
    "        f[~diverge] = i              # Fill in non-diverged iteration number\n",
    "        \n",
    "    return f"
   ]
  },
  {
   "cell_type": "code",
   "execution_count": null,
   "metadata": {},
   "outputs": [],
   "source": [
    "def on_each_python(cxy, maxiterations):\n",
    "    z = cxy\n",
    "    for i in range(1, maxiterations+1):\n",
    "        z = z**2 + cxy\n",
    "        if abs(z) > 2:\n",
    "            return i\n",
    "    return i\n",
    "\n",
    "def fractal_python(c, maxiterations=50):\n",
    "    fractal = np.zeros_like(c, dtype=np.int32)\n",
    "\n",
    "    for yi in range(c.shape[0]):\n",
    "        for xi in range(c.shape[1]):\n",
    "            fractal[yi, xi] = on_each_python(c[yi, xi], maxiterations)\n",
    "    \n",
    "    return fractal\n",
    "\n",
    "def fractal_pure(c, maxiterations):\n",
    "    fractal = np.zeros_like(c, dtype=np.int32)\n",
    "\n",
    "    for yi in range(c.shape[0]):\n",
    "        for xi in range(c.shape[1]):\n",
    "            z = cxy = c[yi, xi]\n",
    "            for i in range(1, maxiterations+1):\n",
    "                z = z**2 + cxy\n",
    "                if abs(z) > 2:\n",
    "                    break\n",
    "                else:\n",
    "                    fractal[yi, xi] = i\n",
    "    return fractal"
   ]
  },
  {
   "cell_type": "code",
   "execution_count": null,
   "metadata": {},
   "outputs": [],
   "source": [
    "%%timeit\n",
    "fractal_python(c, maxiterations)"
   ]
  },
  {
   "cell_type": "code",
   "execution_count": null,
   "metadata": {},
   "outputs": [],
   "source": [
    "%%timeit\n",
    "fractal_numpy(c, maxiterations)"
   ]
  },
  {
   "cell_type": "code",
   "execution_count": null,
   "metadata": {},
   "outputs": [],
   "source": [
    "%%timeit\n",
    "fractal_pure(c, maxiterations)"
   ]
  },
  {
   "cell_type": "code",
   "execution_count": null,
   "metadata": {},
   "outputs": [],
   "source": [
    "fractal = fractal_pure(c, maxiterations)\n",
    "fig, ax = plt.subplots(figsize=(4,3))\n",
    "ax.pcolormesh(c.real, c.imag, fractal)"
   ]
  },
  {
   "cell_type": "code",
   "execution_count": null,
   "metadata": {},
   "outputs": [],
   "source": [
    "%load_ext line_profiler"
   ]
  },
  {
   "cell_type": "code",
   "execution_count": null,
   "metadata": {},
   "outputs": [],
   "source": [
    "%lprun -f fractal_numpy fractal_numpy(c, maxiterations)"
   ]
  },
  {
   "cell_type": "code",
   "execution_count": null,
   "metadata": {},
   "outputs": [],
   "source": [
    "import cProfile"
   ]
  },
  {
   "cell_type": "code",
   "execution_count": null,
   "metadata": {},
   "outputs": [],
   "source": [
    "cProfile.run('fractal_numpy(c, maxiterations)', sort=2)"
   ]
  },
  {
   "cell_type": "markdown",
   "metadata": {},
   "source": [
    "### Project: accelerate\n",
    "\n",
    "Try some of the following:\n",
    "\n",
    "* Use `numexpr` to replace parts of the above calculation. Why is this not very effective?\n",
    "* Try reducing the number of memory allocations by using numpy\n",
    "* Try accelerating using `@numba.njit`\n",
    "* Try accelerating using `@numba.vectorize`"
   ]
  },
  {
   "cell_type": "code",
   "execution_count": null,
   "metadata": {},
   "outputs": [],
   "source": []
  }
 ],
 "metadata": {
  "kernelspec": {
   "display_name": "Python [conda env:performance-minicourse] *",
   "language": "python",
   "name": "conda-env-performance-minicourse-py"
  },
  "language_info": {
   "codemirror_mode": {
    "name": "ipython",
    "version": 3
   },
   "file_extension": ".py",
   "mimetype": "text/x-python",
   "name": "python",
   "nbconvert_exporter": "python",
   "pygments_lexer": "ipython3",
   "version": "3.7.3"
  }
 },
 "nbformat": 4,
 "nbformat_minor": 4
}
