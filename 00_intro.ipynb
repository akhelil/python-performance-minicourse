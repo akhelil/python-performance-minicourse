{
 "cells": [
  {
   "cell_type": "markdown",
   "metadata": {},
   "source": [
    "# Why Python?\n",
    "\n",
    "Python is now the second most popular language on GitHub, after only JavaScript.\n",
    "\n",
    "![GitHub Languages](./img/GitHubLang.png)\n",
    "\n",
    "* Still growing at a rate of 151%!\n",
    "* Jupyter notebooks growth over 100% every year for the last three years!\n",
    "\n",
    "[State of the Octoverse, 2019](https://octoverse.github.com)"
   ]
  },
  {
   "cell_type": "markdown",
   "metadata": {},
   "source": [
    "# Why Python?\n",
    "\n",
    "![PyPI Languages](./img/PYPLLang.png)\n",
    "\n",
    "[PyPL rankings](http://pypl.github.io/PYPL.html) of some of the most popular languages for data science."
   ]
  },
  {
   "cell_type": "markdown",
   "metadata": {},
   "source": [
    "# Timeline of Python\n",
    "\n",
    "* 1994: Python 1.0 released\n",
    "* 1995: First array package: Numeric\n",
    "* 2003: Matplotlib\n",
    "* 2005: Numeric and numarray merged into Numpy\n",
    "* 2008: Pandas introduced\n",
    "* 2012: The Anaconda python distribution was born\n",
    "* 2014: IPython produces the Jupyter project and notebook\n",
    "* 2016: LIGO's discovery was shown in a Jupyter Notebook, and was written in Python\n",
    "* 2017: Google releases TensorFlow\n",
    "* 2019: All Machine Learning libraries are primarily or exclusively used through Python"
   ]
  },
  {
   "cell_type": "markdown",
   "metadata": {},
   "source": [
    "# Timeline of Python, key points\n",
    "\n",
    "\n",
    "## 2005: Numpy\n",
    "* Merged two competing codebases, created single ecosystem\n",
    "\n",
    "## 2008: Pandas\n",
    "* Took on specialized statistics languages (like R) with a *library* in a general purpose language\n",
    "* Pioneered \"Pythonic\" shortcuts, breaking down traditional design barriers\n",
    "\n",
    "## 2014: Jupyter\n",
    "* The notebook format, with code, outputs, and descriptions interleaved, became multilingual"
   ]
  },
  {
   "cell_type": "markdown",
   "metadata": {},
   "source": [
    "# Python vs. a compiled language\n",
    "\n",
    "Python is an interpreted language. When we talk about Python, we usually mean CPython, which is not even Just In Time (JIT) compiled; it's purely interpreted.\n",
    "\n",
    "TLDR: Python is *slow*.\n",
    "\n",
    "Hundreds to thousands of times slower than C/C++/Fortran/Go/Swift/Rust/Haskell... You get the point.\n",
    "\n",
    "Python is like a car. Compiled languages are like a plane.\n",
    "\n",
    "So why use it?"
   ]
  },
  {
   "cell_type": "markdown",
   "metadata": {},
   "source": [
    "# A hybrid approach\n",
    "\n",
    "If you want to get to South America, the fastest way to do so is take a car to get to the airport to catch a plane. \n",
    "\n",
    "Same idea for Python and compiled languages. You can do the big, common, easy tasks in compiled languages, and steer it with Python.\n",
    "\n",
    "And, as you'll see today, that's easier than you think!"
   ]
  },
  {
   "cell_type": "markdown",
   "metadata": {},
   "source": [
    "# Course layout\n",
    "\n",
    "\n",
    "## High Performance Python: CPU\n",
    "\n",
    "* Today's class\n",
    "* How to make Python code fast *without* really fully leaving Python\n",
    "\n",
    "\n",
    "## High Performance Python: GPU\n",
    "\n",
    "* The sequel, in a few weeks\n",
    "* Using accelerators to boost your code\n",
    "\n",
    "\n",
    "\n",
    "## Compiled code & Python (in development)\n",
    "\n",
    "* Date TBD, Spring next year.\n",
    "* How to interface and accelerate with compiled code"
   ]
  },
  {
   "cell_type": "markdown",
   "metadata": {},
   "source": [
    "# Further reading\n",
    "\n",
    "## My Materials\n",
    "\n",
    "* [ISciNumPy](https://iscinumpy.gitlab.io): My blog, with lots of interesting topics\n",
    "* [CompClass](https://github.com/henryiii/compclass): A computational physics class that I taught a year ago\n",
    "\n",
    "## Jim Pivarski's materials\n",
    "\n",
    "Jim taught earlier iterations of this mini-course, and his materials are great:\n",
    "\n",
    "* [Mini-course Fall 2018](https://github.com/jpivarski/python-numpy-mini-course)\n",
    "* [Mini-course Spring 2019](https://github.com/jpivarski/2019-04-08-picscie-numpy)\n",
    "* [CoDaS HEP Summer 2019](https://github.com/jpivarski/2019-07-23-codas-hep)\n",
    "* [DPF Summer 2019](https://github.com/jpivarski/2019-07-29-dpf-python)"
   ]
  },
  {
   "cell_type": "code",
   "execution_count": null,
   "metadata": {},
   "outputs": [],
   "source": []
  }
 ],
 "metadata": {
  "kernelspec": {
   "display_name": "Python [conda env:performance-minicourse] *",
   "language": "python",
   "name": "conda-env-performance-minicourse-py"
  },
  "language_info": {
   "codemirror_mode": {
    "name": "ipython",
    "version": 3
   },
   "file_extension": ".py",
   "mimetype": "text/x-python",
   "name": "python",
   "nbconvert_exporter": "python",
   "pygments_lexer": "ipython3",
   "version": "3.7.3"
  }
 },
 "nbformat": 4,
 "nbformat_minor": 4
}
